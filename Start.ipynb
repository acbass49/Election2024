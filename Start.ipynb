{
 "cells": [
  {
   "cell_type": "markdown",
   "id": "9a8889ed-ddcb-401f-865e-49504c28d70f",
   "metadata": {},
   "source": [
    "# Presidential Election Model 2024\n",
    "\n",
    "### What would be my pipeline?\n",
    "\n",
    "First, I need to build the model. I may have to import data from another place and it would be best to just build the model.\n",
    "\n",
    "I think I'll start with some simple feature engineering. I will use polling house and recency as independent variables. Perhaps I will use the previous day as a weak prior for the model to add a sort or smoothing time series compenent effect? I may have to do a little research on forcasting/time series.\n",
    "\n",
    "I should write-up my methodology like last time and have it on my github in a quarto doc\n",
    "\n",
    "For the model itself, I'll estimate a logistic regression to output probabilities for each state.\n",
    "\n",
    "After I build the model and dashboard, This will be the daily update pipeline:\n",
    "1. Combine and feature engineer data\n",
    "2. Re-estimate model using yesterdays estimates as weak priors\n",
    "3. Add the new numbers to the dashboard and refresh website\n",
    "\n",
    "### What should I include in the dashboard?\n",
    "\n",
    "1. The line which tracks over time the overall predictions/probabilities for the race (interactive).\n",
    "2. Map of the states and their probabilities (interactive).\n",
    "3. Histogram of the simulations that day (interactive? maybe static)\n",
    "4. X latest polls and some basic info in a table (static with hyperlinks).\n"
   ]
  },
  {
   "cell_type": "code",
   "execution_count": null,
   "id": "1177b26c-8681-4f38-963a-261ebeff57fe",
   "metadata": {},
   "outputs": [],
   "source": []
  }
 ],
 "metadata": {
  "kernelspec": {
   "display_name": "Python 3 (ipykernel)",
   "language": "python",
   "name": "python3"
  },
  "language_info": {
   "codemirror_mode": {
    "name": "ipython",
    "version": 3
   },
   "file_extension": ".py",
   "mimetype": "text/x-python",
   "name": "python",
   "nbconvert_exporter": "python",
   "pygments_lexer": "ipython3",
   "version": "3.8.16"
  }
 },
 "nbformat": 4,
 "nbformat_minor": 5
}
